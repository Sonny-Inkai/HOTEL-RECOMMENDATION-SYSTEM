{
 "cells": [
  {
   "cell_type": "code",
   "execution_count": 1,
   "id": "7e303606",
   "metadata": {
    "execution": {
     "iopub.execute_input": "2023-12-02T01:42:41.705135Z",
     "iopub.status.busy": "2023-12-02T01:42:41.704393Z",
     "iopub.status.idle": "2023-12-02T01:42:42.171439Z",
     "shell.execute_reply": "2023-12-02T01:42:42.170644Z"
    },
    "papermill": {
     "duration": 0.479446,
     "end_time": "2023-12-02T01:42:42.174007",
     "exception": false,
     "start_time": "2023-12-02T01:42:41.694561",
     "status": "completed"
    },
    "tags": []
   },
   "outputs": [
    {
     "data": {
      "text/html": [
       "<div>\n",
       "<style scoped>\n",
       "    .dataframe tbody tr th:only-of-type {\n",
       "        vertical-align: middle;\n",
       "    }\n",
       "\n",
       "    .dataframe tbody tr th {\n",
       "        vertical-align: top;\n",
       "    }\n",
       "\n",
       "    .dataframe thead th {\n",
       "        text-align: right;\n",
       "    }\n",
       "</style>\n",
       "<table border=\"1\" class=\"dataframe\">\n",
       "  <thead>\n",
       "    <tr style=\"text-align: right;\">\n",
       "      <th></th>\n",
       "      <th>URL Hotel</th>\n",
       "      <th>Location</th>\n",
       "      <th>HotelID</th>\n",
       "      <th>Name Hotel</th>\n",
       "      <th>Descriptions</th>\n",
       "      <th>Address</th>\n",
       "      <th>UserID</th>\n",
       "      <th>User</th>\n",
       "      <th>Rating</th>\n",
       "    </tr>\n",
       "  </thead>\n",
       "  <tbody>\n",
       "    <tr>\n",
       "      <th>0</th>\n",
       "      <td>https://www.booking.com/hotel/vn/dalat-wind.vi...</td>\n",
       "      <td>Đà Lạt</td>\n",
       "      <td>4064</td>\n",
       "      <td>Dalat Wind Deluxe Hotel</td>\n",
       "      <td>Tọa lạc tại thành phố Đà Lạt, cách Hồ Xuân Hươ...</td>\n",
       "      <td>Lot R2 03-04. Golf Valley, Ward 2, Đà Lạt, Viê...</td>\n",
       "      <td>1284</td>\n",
       "      <td>Tran</td>\n",
       "      <td>5</td>\n",
       "    </tr>\n",
       "    <tr>\n",
       "      <th>1</th>\n",
       "      <td>https://www.booking.com/hotel/vn/raon-valley-v...</td>\n",
       "      <td>Đà Lạt</td>\n",
       "      <td>3890</td>\n",
       "      <td>Raon Villa</td>\n",
       "      <td>Tọa lạc tại thành phố Đà Lạt, cách CLB chơi go...</td>\n",
       "      <td>44D Trần Khánh Dư, Phường 8, Đà Lạt, Việt Nam</td>\n",
       "      <td>1284</td>\n",
       "      <td>Tran</td>\n",
       "      <td>6</td>\n",
       "    </tr>\n",
       "    <tr>\n",
       "      <th>2</th>\n",
       "      <td>https://www.booking.com/hotel/vn/raon-valley-v...</td>\n",
       "      <td>Đà Lạt</td>\n",
       "      <td>3890</td>\n",
       "      <td>Raon Villa</td>\n",
       "      <td>Tọa lạc tại thành phố Đà Lạt, cách CLB chơi go...</td>\n",
       "      <td>44D Trần Khánh Dư, Phường 8, Đà Lạt, Việt Nam</td>\n",
       "      <td>1284</td>\n",
       "      <td>Tran</td>\n",
       "      <td>7</td>\n",
       "    </tr>\n",
       "    <tr>\n",
       "      <th>3</th>\n",
       "      <td>https://www.booking.com/hotel/vn/raon-villa-da...</td>\n",
       "      <td>Đà Lạt</td>\n",
       "      <td>3288</td>\n",
       "      <td>Raon Hotel</td>\n",
       "      <td>Tọa lạc tại thành phố Đà Lạt, cách Công viên Y...</td>\n",
       "      <td>42 Tô Hiến Thành, Phường 3, Đà Lạt, Việt Nam</td>\n",
       "      <td>1284</td>\n",
       "      <td>Tran</td>\n",
       "      <td>8</td>\n",
       "    </tr>\n",
       "    <tr>\n",
       "      <th>4</th>\n",
       "      <td>https://www.booking.com/hotel/vn/wasabi-house....</td>\n",
       "      <td>Đà Lạt</td>\n",
       "      <td>4388</td>\n",
       "      <td>Wasabi House - Phương Anh Homestay</td>\n",
       "      <td>Tọa lạc ở thành phố Đà Lạt, cách Quảng trường ...</td>\n",
       "      <td>20/2 Phan Như Thạch, Đà Lạt, Việt Nam</td>\n",
       "      <td>1284</td>\n",
       "      <td>Tran</td>\n",
       "      <td>7</td>\n",
       "    </tr>\n",
       "    <tr>\n",
       "      <th>...</th>\n",
       "      <td>...</td>\n",
       "      <td>...</td>\n",
       "      <td>...</td>\n",
       "      <td>...</td>\n",
       "      <td>...</td>\n",
       "      <td>...</td>\n",
       "      <td>...</td>\n",
       "      <td>...</td>\n",
       "      <td>...</td>\n",
       "    </tr>\n",
       "    <tr>\n",
       "      <th>690</th>\n",
       "      <td>https://www.booking.com/hotel/vn/vinpearl-hue-...</td>\n",
       "      <td>Huế</td>\n",
       "      <td>2403</td>\n",
       "      <td>Melia Vinpearl Hue</td>\n",
       "      <td>Trong số các tiện nghi của chỗ nghỉ này có nhà...</td>\n",
       "      <td>50A Hung Vuong Street, Huế, Việt Nam</td>\n",
       "      <td>335</td>\n",
       "      <td>Thanh</td>\n",
       "      <td>10</td>\n",
       "    </tr>\n",
       "    <tr>\n",
       "      <th>691</th>\n",
       "      <td>https://www.booking.com/hotel/vn/senna-hue.vi....</td>\n",
       "      <td>Huế</td>\n",
       "      <td>4443</td>\n",
       "      <td>Senna Hue Hotel</td>\n",
       "      <td>Khách sạn 5 sao này cũng có WiFi miễn phí, vườ...</td>\n",
       "      <td>7 Nguyễn Tri Phương, phường Phú Hội, Tp Huế 7 ...</td>\n",
       "      <td>335</td>\n",
       "      <td>Thanh</td>\n",
       "      <td>8</td>\n",
       "    </tr>\n",
       "    <tr>\n",
       "      <th>692</th>\n",
       "      <td>https://www.booking.com/hotel/vn/na-na-homesta...</td>\n",
       "      <td>Huế</td>\n",
       "      <td>2259</td>\n",
       "      <td>Nana Homestay &amp; Villa</td>\n",
       "      <td>Nằm cách Chợ Đông Ba 1,4 km, Nana Homestay &amp; V...</td>\n",
       "      <td>26/1/147 Phan Đình Phùng 3, Huế, Việt Nam</td>\n",
       "      <td>335</td>\n",
       "      <td>Thanh</td>\n",
       "      <td>6</td>\n",
       "    </tr>\n",
       "    <tr>\n",
       "      <th>693</th>\n",
       "      <td>https://www.booking.com/hotel/vn/nana-2-homest...</td>\n",
       "      <td>Huế</td>\n",
       "      <td>3735</td>\n",
       "      <td>Nana 2 Homestay</td>\n",
       "      <td>Tọa lạc tại thành phố Huế với Chợ Đông Ba và C...</td>\n",
       "      <td>14/42 Nguyễn Công Trứ, Phường Phú Hội, Huế, Vi...</td>\n",
       "      <td>335</td>\n",
       "      <td>Thanh</td>\n",
       "      <td>5</td>\n",
       "    </tr>\n",
       "    <tr>\n",
       "      <th>694</th>\n",
       "      <td>https://www.booking.com/hotel/vn/phuong-loan-h...</td>\n",
       "      <td>Huế</td>\n",
       "      <td>3845</td>\n",
       "      <td>Amona Hotel</td>\n",
       "      <td>Khách sạn 2 sao này cách Chợ Đông Ba 800 m và ...</td>\n",
       "      <td>11 Nguyen Cong Tru, Phu Hoi, Huế, Việt Nam</td>\n",
       "      <td>335</td>\n",
       "      <td>Thanh</td>\n",
       "      <td>5</td>\n",
       "    </tr>\n",
       "  </tbody>\n",
       "</table>\n",
       "<p>695 rows × 9 columns</p>\n",
       "</div>"
      ],
      "text/plain": [
       "                                             URL Hotel Location  HotelID  \\\n",
       "0    https://www.booking.com/hotel/vn/dalat-wind.vi...   Đà Lạt     4064   \n",
       "1    https://www.booking.com/hotel/vn/raon-valley-v...   Đà Lạt     3890   \n",
       "2    https://www.booking.com/hotel/vn/raon-valley-v...   Đà Lạt     3890   \n",
       "3    https://www.booking.com/hotel/vn/raon-villa-da...   Đà Lạt     3288   \n",
       "4    https://www.booking.com/hotel/vn/wasabi-house....   Đà Lạt     4388   \n",
       "..                                                 ...      ...      ...   \n",
       "690  https://www.booking.com/hotel/vn/vinpearl-hue-...      Huế     2403   \n",
       "691  https://www.booking.com/hotel/vn/senna-hue.vi....      Huế     4443   \n",
       "692  https://www.booking.com/hotel/vn/na-na-homesta...      Huế     2259   \n",
       "693  https://www.booking.com/hotel/vn/nana-2-homest...      Huế     3735   \n",
       "694  https://www.booking.com/hotel/vn/phuong-loan-h...      Huế     3845   \n",
       "\n",
       "                             Name Hotel  \\\n",
       "0               Dalat Wind Deluxe Hotel   \n",
       "1                            Raon Villa   \n",
       "2                            Raon Villa   \n",
       "3                            Raon Hotel   \n",
       "4    Wasabi House - Phương Anh Homestay   \n",
       "..                                  ...   \n",
       "690                  Melia Vinpearl Hue   \n",
       "691                     Senna Hue Hotel   \n",
       "692               Nana Homestay & Villa   \n",
       "693                     Nana 2 Homestay   \n",
       "694                         Amona Hotel   \n",
       "\n",
       "                                          Descriptions  \\\n",
       "0    Tọa lạc tại thành phố Đà Lạt, cách Hồ Xuân Hươ...   \n",
       "1    Tọa lạc tại thành phố Đà Lạt, cách CLB chơi go...   \n",
       "2    Tọa lạc tại thành phố Đà Lạt, cách CLB chơi go...   \n",
       "3    Tọa lạc tại thành phố Đà Lạt, cách Công viên Y...   \n",
       "4    Tọa lạc ở thành phố Đà Lạt, cách Quảng trường ...   \n",
       "..                                                 ...   \n",
       "690  Trong số các tiện nghi của chỗ nghỉ này có nhà...   \n",
       "691  Khách sạn 5 sao này cũng có WiFi miễn phí, vườ...   \n",
       "692  Nằm cách Chợ Đông Ba 1,4 km, Nana Homestay & V...   \n",
       "693  Tọa lạc tại thành phố Huế với Chợ Đông Ba và C...   \n",
       "694  Khách sạn 2 sao này cách Chợ Đông Ba 800 m và ...   \n",
       "\n",
       "                                               Address  UserID   User  Rating  \n",
       "0    Lot R2 03-04. Golf Valley, Ward 2, Đà Lạt, Viê...    1284   Tran       5  \n",
       "1       44D Trần Khánh Dư, Phường 8, Đà Lạt, Việt Nam    1284   Tran       6  \n",
       "2       44D Trần Khánh Dư, Phường 8, Đà Lạt, Việt Nam    1284   Tran       7  \n",
       "3        42 Tô Hiến Thành, Phường 3, Đà Lạt, Việt Nam    1284   Tran       8  \n",
       "4               20/2 Phan Như Thạch, Đà Lạt, Việt Nam    1284   Tran       7  \n",
       "..                                                 ...     ...    ...     ...  \n",
       "690              50A Hung Vuong Street, Huế, Việt Nam     335  Thanh      10  \n",
       "691  7 Nguyễn Tri Phương, phường Phú Hội, Tp Huế 7 ...     335  Thanh       8  \n",
       "692         26/1/147 Phan Đình Phùng 3, Huế, Việt Nam     335  Thanh       6  \n",
       "693  14/42 Nguyễn Công Trứ, Phường Phú Hội, Huế, Vi...     335  Thanh       5  \n",
       "694        11 Nguyen Cong Tru, Phu Hoi, Huế, Việt Nam     335  Thanh       5  \n",
       "\n",
       "[695 rows x 9 columns]"
      ]
     },
     "execution_count": 1,
     "metadata": {},
     "output_type": "execute_result"
    }
   ],
   "source": [
    "import pandas as pd\n",
    "test_by_user  = pd.read_csv(\"/kaggle/input/datahotel/test_by_user_695.csv\")\n",
    "test_by_user"
   ]
  },
  {
   "cell_type": "markdown",
   "id": "b5c85ff1",
   "metadata": {
    "papermill": {
     "duration": 0.006437,
     "end_time": "2023-12-02T01:42:42.188081",
     "exception": false,
     "start_time": "2023-12-02T01:42:42.181644",
     "status": "completed"
    },
    "tags": []
   },
   "source": [
    "# Best GHRS Present"
   ]
  },
  {
   "cell_type": "code",
   "execution_count": 2,
   "id": "af555492",
   "metadata": {
    "_cell_guid": "b1076dfc-b9ad-4769-8c92-a6c4dae69d19",
    "_uuid": "8f2839f25d086af736a60e9eeb907d3b93b6e0e5",
    "execution": {
     "iopub.execute_input": "2023-12-02T01:42:42.203813Z",
     "iopub.status.busy": "2023-12-02T01:42:42.202779Z",
     "iopub.status.idle": "2023-12-02T01:42:43.962038Z",
     "shell.execute_reply": "2023-12-02T01:42:43.960960Z"
    },
    "papermill": {
     "duration": 1.769715,
     "end_time": "2023-12-02T01:42:43.964312",
     "exception": false,
     "start_time": "2023-12-02T01:42:42.194597",
     "status": "completed"
    },
    "tags": []
   },
   "outputs": [
    {
     "data": {
      "text/plain": [
       "array([[5.99997   , 5.4999725 , 7.99992   , ..., 5.93996596, 6.26807194,\n",
       "        5.94337718],\n",
       "       [8.1       , 7.        , 8.22222222, ..., 7.        , 6.        ,\n",
       "        9.57142857],\n",
       "       [0.        , 5.99994   , 7.12498219, ..., 6.95210695, 6.67677801,\n",
       "        9.        ],\n",
       "       ...,\n",
       "       [8.1       , 7.        , 8.22222222, ..., 7.        , 6.        ,\n",
       "        9.57142857],\n",
       "       [8.1       , 7.        , 8.22222222, ..., 7.        , 6.        ,\n",
       "        9.57142857],\n",
       "       [7.06665783, 7.03702922, 7.4166574 , ..., 7.26025395, 7.76944915,\n",
       "        8.        ]])"
      ]
     },
     "execution_count": 2,
     "metadata": {},
     "output_type": "execute_result"
    }
   ],
   "source": [
    "import pickle\n",
    "with open('/kaggle/input/best-ghrs-present/best_ghrs.pkl', 'rb') as file:\n",
    "    ghrs = pickle.load(file)\n",
    "ghrs"
   ]
  },
  {
   "cell_type": "code",
   "execution_count": 3,
   "id": "6dc5facd",
   "metadata": {
    "execution": {
     "iopub.execute_input": "2023-12-02T01:42:43.978692Z",
     "iopub.status.busy": "2023-12-02T01:42:43.978345Z",
     "iopub.status.idle": "2023-12-02T01:42:43.984134Z",
     "shell.execute_reply": "2023-12-02T01:42:43.983323Z"
    },
    "papermill": {
     "duration": 0.015131,
     "end_time": "2023-12-02T01:42:43.986105",
     "exception": false,
     "start_time": "2023-12-02T01:42:43.970974",
     "status": "completed"
    },
    "tags": []
   },
   "outputs": [
    {
     "data": {
      "text/plain": [
       "(6471, 4506)"
      ]
     },
     "execution_count": 3,
     "metadata": {},
     "output_type": "execute_result"
    }
   ],
   "source": [
    "ghrs.shape"
   ]
  },
  {
   "cell_type": "markdown",
   "id": "f2b58905",
   "metadata": {
    "papermill": {
     "duration": 0.006247,
     "end_time": "2023-12-02T01:42:43.998921",
     "exception": false,
     "start_time": "2023-12-02T01:42:43.992674",
     "status": "completed"
    },
    "tags": []
   },
   "source": [
    "# GLocalK"
   ]
  },
  {
   "cell_type": "code",
   "execution_count": 4,
   "id": "e60f72e5",
   "metadata": {
    "execution": {
     "iopub.execute_input": "2023-12-02T01:42:44.014009Z",
     "iopub.status.busy": "2023-12-02T01:42:44.013607Z",
     "iopub.status.idle": "2023-12-02T01:42:45.623059Z",
     "shell.execute_reply": "2023-12-02T01:42:45.622232Z"
    },
    "papermill": {
     "duration": 1.619385,
     "end_time": "2023-12-02T01:42:45.625280",
     "exception": false,
     "start_time": "2023-12-02T01:42:44.005895",
     "status": "completed"
    },
    "tags": []
   },
   "outputs": [
    {
     "data": {
      "text/plain": [
       "array([[4.65004707, 4.67393401, 4.64333052, ..., 6.86745366, 6.64574338,\n",
       "        3.39768983],\n",
       "       [4.65631342, 4.68011774, 4.64945116, ..., 6.87686377, 6.65470868,\n",
       "        3.4021279 ],\n",
       "       [4.65633006, 4.68020746, 4.64937355, ..., 6.87707294, 6.6549985 ,\n",
       "        3.40223258],\n",
       "       ...,\n",
       "       [4.63209989, 4.65576675, 4.62519317, ..., 6.84121955, 6.62021705,\n",
       "        3.38463048],\n",
       "       [4.65481414, 4.67848771, 4.64782904, ..., 6.87468036, 6.65271307,\n",
       "        3.4008711 ],\n",
       "       [4.6534856 , 4.677118  , 4.64645821, ..., 6.87265031, 6.65073691,\n",
       "        3.39987837]])"
      ]
     },
     "execution_count": 4,
     "metadata": {},
     "output_type": "execute_result"
    }
   ],
   "source": [
    "import pickle\n",
    "with open('/kaggle/input/model-rating-matrix/result_user_rating_predict_glocalK.pkl', 'rb') as file:\n",
    "    glocalk = pickle.load(file)\n",
    "glocalk"
   ]
  },
  {
   "cell_type": "code",
   "execution_count": 5,
   "id": "27893af8",
   "metadata": {
    "execution": {
     "iopub.execute_input": "2023-12-02T01:42:45.641092Z",
     "iopub.status.busy": "2023-12-02T01:42:45.640375Z",
     "iopub.status.idle": "2023-12-02T01:42:45.644562Z",
     "shell.execute_reply": "2023-12-02T01:42:45.643522Z"
    },
    "papermill": {
     "duration": 0.014481,
     "end_time": "2023-12-02T01:42:45.646629",
     "exception": false,
     "start_time": "2023-12-02T01:42:45.632148",
     "status": "completed"
    },
    "tags": []
   },
   "outputs": [],
   "source": [
    "import numpy as np"
   ]
  },
  {
   "cell_type": "code",
   "execution_count": 6,
   "id": "fd7ce68a",
   "metadata": {
    "execution": {
     "iopub.execute_input": "2023-12-02T01:42:45.662208Z",
     "iopub.status.busy": "2023-12-02T01:42:45.661813Z",
     "iopub.status.idle": "2023-12-02T01:42:45.667898Z",
     "shell.execute_reply": "2023-12-02T01:42:45.666994Z"
    },
    "papermill": {
     "duration": 0.016076,
     "end_time": "2023-12-02T01:42:45.669761",
     "exception": false,
     "start_time": "2023-12-02T01:42:45.653685",
     "status": "completed"
    },
    "tags": []
   },
   "outputs": [
    {
     "data": {
      "text/plain": [
       "(6471, 4506)"
      ]
     },
     "execution_count": 6,
     "metadata": {},
     "output_type": "execute_result"
    }
   ],
   "source": [
    "glocalk = np.transpose(glocalk)\n",
    "glocalk.shape"
   ]
  },
  {
   "cell_type": "markdown",
   "id": "b87d3f32",
   "metadata": {
    "papermill": {
     "duration": 0.006559,
     "end_time": "2023-12-02T01:42:45.683110",
     "exception": false,
     "start_time": "2023-12-02T01:42:45.676551",
     "status": "completed"
    },
    "tags": []
   },
   "source": [
    "# Tính trung bình 2 matrix "
   ]
  },
  {
   "cell_type": "code",
   "execution_count": 7,
   "id": "5eca2d9e",
   "metadata": {
    "execution": {
     "iopub.execute_input": "2023-12-02T01:42:45.698678Z",
     "iopub.status.busy": "2023-12-02T01:42:45.697999Z",
     "iopub.status.idle": "2023-12-02T01:42:46.041019Z",
     "shell.execute_reply": "2023-12-02T01:42:46.039939Z"
    },
    "papermill": {
     "duration": 0.353517,
     "end_time": "2023-12-02T01:42:46.043402",
     "exception": false,
     "start_time": "2023-12-02T01:42:45.689885",
     "status": "completed"
    },
    "tags": []
   },
   "outputs": [
    {
     "data": {
      "text/plain": [
       "array([[5.46000083, 5.16250887, 6.66248402, ..., 5.41681953, 5.62276882,\n",
       "        5.42742055],\n",
       "       [6.7295736 , 6.0720471 , 6.80541632, ..., 6.0623067 , 5.47139508,\n",
       "        7.61370434],\n",
       "       [1.85733221, 5.45974446, 6.13473873, ..., 6.02134144, 5.86519842,\n",
       "        7.25858329],\n",
       "       ...,\n",
       "       [7.60698146, 6.95074551, 7.68416251, ..., 6.93648782, 6.34987214,\n",
       "        8.49191726],\n",
       "       [7.51829735, 6.86188347, 7.59533273, ..., 6.84808682, 6.26108523,\n",
       "        8.40315191],\n",
       "       [5.59907063, 5.58306869, 5.81088747, ..., 5.71000456, 6.02201793,\n",
       "        6.15995135]])"
      ]
     },
     "execution_count": 7,
     "metadata": {},
     "output_type": "execute_result"
    }
   ],
   "source": [
    "user_rating_new = glocalk*0.4+ghrs*0.6\n",
    "user_rating_new"
   ]
  },
  {
   "cell_type": "code",
   "execution_count": 8,
   "id": "aef0e9b4",
   "metadata": {
    "execution": {
     "iopub.execute_input": "2023-12-02T01:42:46.060483Z",
     "iopub.status.busy": "2023-12-02T01:42:46.059434Z",
     "iopub.status.idle": "2023-12-02T01:42:46.065176Z",
     "shell.execute_reply": "2023-12-02T01:42:46.064334Z"
    },
    "papermill": {
     "duration": 0.016311,
     "end_time": "2023-12-02T01:42:46.067194",
     "exception": false,
     "start_time": "2023-12-02T01:42:46.050883",
     "status": "completed"
    },
    "tags": []
   },
   "outputs": [
    {
     "data": {
      "text/plain": [
       "(6471, 4506)"
      ]
     },
     "execution_count": 8,
     "metadata": {},
     "output_type": "execute_result"
    }
   ],
   "source": [
    "user_rating_new.shape"
   ]
  },
  {
   "cell_type": "markdown",
   "id": "548ee692",
   "metadata": {
    "papermill": {
     "duration": 0.006724,
     "end_time": "2023-12-02T01:42:46.080972",
     "exception": false,
     "start_time": "2023-12-02T01:42:46.074248",
     "status": "completed"
    },
    "tags": []
   },
   "source": [
    "# Evaluating"
   ]
  },
  {
   "cell_type": "code",
   "execution_count": 9,
   "id": "a471bfb3",
   "metadata": {
    "execution": {
     "iopub.execute_input": "2023-12-02T01:42:46.096858Z",
     "iopub.status.busy": "2023-12-02T01:42:46.096251Z",
     "iopub.status.idle": "2023-12-02T01:42:46.102525Z",
     "shell.execute_reply": "2023-12-02T01:42:46.101592Z"
    },
    "papermill": {
     "duration": 0.016589,
     "end_time": "2023-12-02T01:42:46.104520",
     "exception": false,
     "start_time": "2023-12-02T01:42:46.087931",
     "status": "completed"
    },
    "tags": []
   },
   "outputs": [
    {
     "data": {
      "text/plain": [
       "array([5, 6, 7, 8, 7, 6, 8, 6, 6, 7])"
      ]
     },
     "execution_count": 9,
     "metadata": {},
     "output_type": "execute_result"
    }
   ],
   "source": [
    "ground_truth = test_by_user['Rating'].values\n",
    "ground_truth[:10]"
   ]
  },
  {
   "cell_type": "code",
   "execution_count": 10,
   "id": "b59fcb12",
   "metadata": {
    "execution": {
     "iopub.execute_input": "2023-12-02T01:42:46.120510Z",
     "iopub.status.busy": "2023-12-02T01:42:46.120116Z",
     "iopub.status.idle": "2023-12-02T01:42:46.125687Z",
     "shell.execute_reply": "2023-12-02T01:42:46.124678Z"
    },
    "papermill": {
     "duration": 0.015952,
     "end_time": "2023-12-02T01:42:46.127669",
     "exception": false,
     "start_time": "2023-12-02T01:42:46.111717",
     "status": "completed"
    },
    "tags": []
   },
   "outputs": [],
   "source": [
    "def get_list_4test(user_rating_matrix, test):\n",
    "    test_list = []\n",
    "    for i in range(test.shape[0]):\n",
    "        rating = user_rating_matrix[test.iloc[i]['UserID'] - 1][test.iloc[i]['HotelID'] - 1]\n",
    "        test_list.append(rating)\n",
    "    \n",
    "    return test_list"
   ]
  },
  {
   "cell_type": "code",
   "execution_count": 11,
   "id": "f3357a4d",
   "metadata": {
    "execution": {
     "iopub.execute_input": "2023-12-02T01:42:46.144688Z",
     "iopub.status.busy": "2023-12-02T01:42:46.143608Z",
     "iopub.status.idle": "2023-12-02T01:42:46.248796Z",
     "shell.execute_reply": "2023-12-02T01:42:46.248074Z"
    },
    "papermill": {
     "duration": 0.115945,
     "end_time": "2023-12-02T01:42:46.250997",
     "exception": false,
     "start_time": "2023-12-02T01:42:46.135052",
     "status": "completed"
    },
    "tags": []
   },
   "outputs": [
    {
     "data": {
      "text/plain": [
       "[7.203928386421305,\n",
       " 7.866323761832398,\n",
       " 7.866323761832398,\n",
       " 7.365146269842007,\n",
       " 7.148766289702774,\n",
       " 7.264089053655466,\n",
       " 6.558393091746174,\n",
       " 7.426932400429088,\n",
       " 7.426932400429088,\n",
       " 6.525220503129039]"
      ]
     },
     "execution_count": 11,
     "metadata": {},
     "output_type": "execute_result"
    }
   ],
   "source": [
    "test_list = get_list_4test(user_rating_new, test_by_user)\n",
    "test_list[:10]"
   ]
  },
  {
   "cell_type": "code",
   "execution_count": 12,
   "id": "d81a2f6b",
   "metadata": {
    "execution": {
     "iopub.execute_input": "2023-12-02T01:42:46.267786Z",
     "iopub.status.busy": "2023-12-02T01:42:46.267237Z",
     "iopub.status.idle": "2023-12-02T01:42:47.405519Z",
     "shell.execute_reply": "2023-12-02T01:42:47.404754Z"
    },
    "papermill": {
     "duration": 1.149016,
     "end_time": "2023-12-02T01:42:47.407685",
     "exception": false,
     "start_time": "2023-12-02T01:42:46.258669",
     "status": "completed"
    },
    "tags": []
   },
   "outputs": [
    {
     "name": "stdout",
     "output_type": "stream",
     "text": [
      "MSE = 2.2866677211135276\n"
     ]
    }
   ],
   "source": [
    "from sklearn.metrics import mean_squared_error\n",
    "mse = mean_squared_error(ground_truth , test_list)\n",
    "print('MSE =',mse)"
   ]
  },
  {
   "cell_type": "code",
   "execution_count": 13,
   "id": "9219f76a",
   "metadata": {
    "execution": {
     "iopub.execute_input": "2023-12-02T01:42:47.425684Z",
     "iopub.status.busy": "2023-12-02T01:42:47.425053Z",
     "iopub.status.idle": "2023-12-02T01:42:47.430151Z",
     "shell.execute_reply": "2023-12-02T01:42:47.429094Z"
    },
    "papermill": {
     "duration": 0.016646,
     "end_time": "2023-12-02T01:42:47.432361",
     "exception": false,
     "start_time": "2023-12-02T01:42:47.415715",
     "status": "completed"
    },
    "tags": []
   },
   "outputs": [
    {
     "name": "stdout",
     "output_type": "stream",
     "text": [
      "RMSE = 1.5121731782813526\n"
     ]
    }
   ],
   "source": [
    "import math\n",
    "rmse = math.sqrt(mse)\n",
    "print('RMSE =',rmse)   "
   ]
  },
  {
   "cell_type": "code",
   "execution_count": 14,
   "id": "4141b13f",
   "metadata": {
    "execution": {
     "iopub.execute_input": "2023-12-02T01:42:47.449608Z",
     "iopub.status.busy": "2023-12-02T01:42:47.448806Z",
     "iopub.status.idle": "2023-12-02T01:42:47.454699Z",
     "shell.execute_reply": "2023-12-02T01:42:47.453672Z"
    },
    "papermill": {
     "duration": 0.017038,
     "end_time": "2023-12-02T01:42:47.457037",
     "exception": false,
     "start_time": "2023-12-02T01:42:47.439999",
     "status": "completed"
    },
    "tags": []
   },
   "outputs": [
    {
     "name": "stdout",
     "output_type": "stream",
     "text": [
      "MAE = 1.3067572188849594\n"
     ]
    }
   ],
   "source": [
    "from sklearn.metrics import mean_absolute_error\n",
    "mae = mean_absolute_error(ground_truth , test_list)\n",
    "print('MAE =',mae)"
   ]
  },
  {
   "cell_type": "code",
   "execution_count": 15,
   "id": "11e8b1de",
   "metadata": {
    "execution": {
     "iopub.execute_input": "2023-12-02T01:42:47.474216Z",
     "iopub.status.busy": "2023-12-02T01:42:47.473245Z",
     "iopub.status.idle": "2023-12-02T01:42:47.479327Z",
     "shell.execute_reply": "2023-12-02T01:42:47.478070Z"
    },
    "papermill": {
     "duration": 0.017085,
     "end_time": "2023-12-02T01:42:47.481580",
     "exception": false,
     "start_time": "2023-12-02T01:42:47.464495",
     "status": "completed"
    },
    "tags": []
   },
   "outputs": [
    {
     "name": "stdout",
     "output_type": "stream",
     "text": [
      "NMAE = 0.2177928698141599\n"
     ]
    }
   ],
   "source": [
    "MAX = max(test_by_user['Rating'].tolist())\n",
    "MIN = min(test_by_user['Rating'].tolist())\n",
    "\n",
    "nmae = mae/(MAX-MIN)\n",
    "print('NMAE =',nmae)"
   ]
  },
  {
   "cell_type": "code",
   "execution_count": 16,
   "id": "eb4fee27",
   "metadata": {
    "execution": {
     "iopub.execute_input": "2023-12-02T01:42:47.499056Z",
     "iopub.status.busy": "2023-12-02T01:42:47.498228Z",
     "iopub.status.idle": "2023-12-02T01:42:47.506976Z",
     "shell.execute_reply": "2023-12-02T01:42:47.505900Z"
    },
    "papermill": {
     "duration": 0.019593,
     "end_time": "2023-12-02T01:42:47.508950",
     "exception": false,
     "start_time": "2023-12-02T01:42:47.489357",
     "status": "completed"
    },
    "tags": []
   },
   "outputs": [
    {
     "name": "stdout",
     "output_type": "stream",
     "text": [
      "NDCG: 0.9513687351524676\n"
     ]
    }
   ],
   "source": [
    "# Sắp xếp danh sách dự đoán và ground truth\n",
    "from sklearn.metrics import ndcg_score\n",
    "sorted_idx = np.argsort(test_list)[::-1]  # Sắp xếp giảm dần\n",
    "sorted_ground_truth = ground_truth[sorted_idx]\n",
    "\n",
    "# Tính toán NDCG\n",
    "ndcg = ndcg_score([ground_truth], [sorted_ground_truth])\n",
    "print(f\"NDCG: {ndcg}\")"
   ]
  },
  {
   "cell_type": "markdown",
   "id": "7dac3fca",
   "metadata": {
    "papermill": {
     "duration": 0.007466,
     "end_time": "2023-12-02T01:42:47.524101",
     "exception": false,
     "start_time": "2023-12-02T01:42:47.516635",
     "status": "completed"
    },
    "tags": []
   },
   "source": [
    "# Lưu lại ma trận predict rating"
   ]
  },
  {
   "cell_type": "code",
   "execution_count": 17,
   "id": "a5ffc521",
   "metadata": {
    "execution": {
     "iopub.execute_input": "2023-12-02T01:42:47.541517Z",
     "iopub.status.busy": "2023-12-02T01:42:47.540755Z",
     "iopub.status.idle": "2023-12-02T01:42:47.768561Z",
     "shell.execute_reply": "2023-12-02T01:42:47.766308Z"
    },
    "papermill": {
     "duration": 0.240083,
     "end_time": "2023-12-02T01:42:47.771865",
     "exception": false,
     "start_time": "2023-12-02T01:42:47.531782",
     "status": "completed"
    },
    "tags": []
   },
   "outputs": [],
   "source": [
    "user_rating_new = user_rating_new.astype(np.float16)"
   ]
  },
  {
   "cell_type": "code",
   "execution_count": 18,
   "id": "0d054615",
   "metadata": {
    "execution": {
     "iopub.execute_input": "2023-12-02T01:42:47.794498Z",
     "iopub.status.busy": "2023-12-02T01:42:47.793642Z",
     "iopub.status.idle": "2023-12-02T01:42:47.814198Z",
     "shell.execute_reply": "2023-12-02T01:42:47.812733Z"
    },
    "papermill": {
     "duration": 0.033599,
     "end_time": "2023-12-02T01:42:47.816877",
     "exception": false,
     "start_time": "2023-12-02T01:42:47.783278",
     "status": "completed"
    },
    "tags": []
   },
   "outputs": [
    {
     "data": {
      "text/plain": [
       "array([[5.46 , 5.164, 6.664, ..., 5.418, 5.62 , 5.426],\n",
       "       [6.73 , 6.07 , 6.805, ..., 6.062, 5.473, 7.613],\n",
       "       [1.857, 5.46 , 6.133, ..., 6.02 , 5.863, 7.258],\n",
       "       ...,\n",
       "       [7.605, 6.95 , 7.684, ..., 6.938, 6.35 , 8.49 ],\n",
       "       [7.52 , 6.863, 7.594, ..., 6.848, 6.26 , 8.41 ],\n",
       "       [5.598, 5.582, 5.812, ..., 5.71 , 6.023, 6.16 ]], dtype=float16)"
      ]
     },
     "execution_count": 18,
     "metadata": {},
     "output_type": "execute_result"
    }
   ],
   "source": [
    "user_rating_new"
   ]
  },
  {
   "cell_type": "code",
   "execution_count": 19,
   "id": "e056a14f",
   "metadata": {
    "execution": {
     "iopub.execute_input": "2023-12-02T01:42:47.842435Z",
     "iopub.status.busy": "2023-12-02T01:42:47.842064Z",
     "iopub.status.idle": "2023-12-02T01:42:53.616780Z",
     "shell.execute_reply": "2023-12-02T01:42:53.615862Z"
    },
    "papermill": {
     "duration": 5.789891,
     "end_time": "2023-12-02T01:42:53.619441",
     "exception": false,
     "start_time": "2023-12-02T01:42:47.829550",
     "status": "completed"
    },
    "tags": []
   },
   "outputs": [],
   "source": [
    "import pickle\n",
    "import gzip\n",
    "\n",
    "# Specify the file name\n",
    "file_name = 'ensemble_model.pkl.gz'\n",
    "\n",
    "# Open the file with gzip compression\n",
    "with gzip.open(file_name, 'wb') as file:\n",
    "    pickle.dump(user_rating_new, file)\n"
   ]
  },
  {
   "cell_type": "code",
   "execution_count": 20,
   "id": "44b6a63a",
   "metadata": {
    "execution": {
     "iopub.execute_input": "2023-12-02T01:42:53.636965Z",
     "iopub.status.busy": "2023-12-02T01:42:53.636536Z",
     "iopub.status.idle": "2023-12-02T01:42:54.295020Z",
     "shell.execute_reply": "2023-12-02T01:42:54.293760Z"
    },
    "papermill": {
     "duration": 0.66992,
     "end_time": "2023-12-02T01:42:54.297411",
     "exception": false,
     "start_time": "2023-12-02T01:42:53.627491",
     "status": "completed"
    },
    "tags": []
   },
   "outputs": [
    {
     "data": {
      "text/plain": [
       "array([[5.46 , 5.164, 6.664, ..., 5.418, 5.62 , 5.426],\n",
       "       [6.73 , 6.07 , 6.805, ..., 6.062, 5.473, 7.613],\n",
       "       [1.857, 5.46 , 6.133, ..., 6.02 , 5.863, 7.258],\n",
       "       ...,\n",
       "       [7.605, 6.95 , 7.684, ..., 6.938, 6.35 , 8.49 ],\n",
       "       [7.52 , 6.863, 7.594, ..., 6.848, 6.26 , 8.41 ],\n",
       "       [5.598, 5.582, 5.812, ..., 5.71 , 6.023, 6.16 ]], dtype=float16)"
      ]
     },
     "execution_count": 20,
     "metadata": {},
     "output_type": "execute_result"
    }
   ],
   "source": [
    "# Open the file with gzip decompression\n",
    "with gzip.open('/kaggle/working/ensemble_model.pkl.gz', 'rb') as file:\n",
    "    loaded_data = pickle.load(file)\n",
    "    \n",
    "loaded_data"
   ]
  },
  {
   "cell_type": "code",
   "execution_count": null,
   "id": "cf63c945",
   "metadata": {
    "papermill": {
     "duration": 0.007733,
     "end_time": "2023-12-02T01:42:54.313067",
     "exception": false,
     "start_time": "2023-12-02T01:42:54.305334",
     "status": "completed"
    },
    "tags": []
   },
   "outputs": [],
   "source": []
  }
 ],
 "metadata": {
  "kaggle": {
   "accelerator": "none",
   "dataSources": [
    {
     "datasetId": 4045454,
     "sourceId": 7032846,
     "sourceType": "datasetVersion"
    },
    {
     "datasetId": 4073314,
     "sourceId": 7072707,
     "sourceType": "datasetVersion"
    },
    {
     "datasetId": 4073510,
     "sourceId": 7072980,
     "sourceType": "datasetVersion"
    },
    {
     "datasetId": 4089236,
     "sourceId": 7095423,
     "sourceType": "datasetVersion"
    }
   ],
   "dockerImageVersionId": 30587,
   "isGpuEnabled": false,
   "isInternetEnabled": true,
   "language": "python",
   "sourceType": "notebook"
  },
  "kernelspec": {
   "display_name": "Python 3",
   "language": "python",
   "name": "python3"
  },
  "language_info": {
   "codemirror_mode": {
    "name": "ipython",
    "version": 3
   },
   "file_extension": ".py",
   "mimetype": "text/x-python",
   "name": "python",
   "nbconvert_exporter": "python",
   "pygments_lexer": "ipython3",
   "version": "3.10.12"
  },
  "papermill": {
   "default_parameters": {},
   "duration": 16.208183,
   "end_time": "2023-12-02T01:42:54.943822",
   "environment_variables": {},
   "exception": null,
   "input_path": "__notebook__.ipynb",
   "output_path": "__notebook__.ipynb",
   "parameters": {},
   "start_time": "2023-12-02T01:42:38.735639",
   "version": "2.4.0"
  }
 },
 "nbformat": 4,
 "nbformat_minor": 5
}
